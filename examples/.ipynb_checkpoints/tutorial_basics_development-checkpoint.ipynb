{
 "cells": [
  {
   "cell_type": "markdown",
   "id": "d3ef5f5e",
   "metadata": {},
   "source": [
    "## Tutorial\n",
    "This file is a demonstration of the basic use of PhreeqcRM in Julia using the package `JPhreeqc.jl`. I use it for the development of extra functions that are not available in PhreeqcRM but are extremely helpful (even necessary) in working with the reactive transport model."
   ]
  },
  {
   "cell_type": "code",
   "execution_count": 2,
   "id": "0cab3506",
   "metadata": {},
   "outputs": [
    {
     "name": "stderr",
     "output_type": "stream",
     "text": [
      "WARNING: replacing module JPhreeqc.\n"
     ]
    },
    {
     "data": {
      "text/plain": [
       "Main.JPhreeqc"
      ]
     },
     "execution_count": 2,
     "metadata": {},
     "output_type": "execute_result"
    }
   ],
   "source": [
    "include(\"../src/JPhreeqc.jl\")\n",
    "JP = JPhreeqc"
   ]
  },
  {
   "cell_type": "markdown",
   "id": "92e7d2ba",
   "metadata": {},
   "source": [
    "## First step: create a PhreeqcRM instance\n",
    "The following code shows how to create a PhreeqcRM instance that can solve chemistry in a certain number of cells. You can also specify the number of threads so the calculations run in parallel. The function RM_Create is called and the instance will get a unique id:"
   ]
  },
  {
   "cell_type": "code",
   "execution_count": 5,
   "id": "8a5c3ed5",
   "metadata": {},
   "outputs": [
    {
     "name": "stdout",
     "output_type": "stream",
     "text": [
      "the phreercrm id is 0"
     ]
    }
   ],
   "source": [
    "n_cells = 1\n",
    "n_thread = 1\n",
    "id = JP.RM_Create(n_cells, n_thread)\n",
    "print(\"the phreeqcrm id is $id\")"
   ]
  },
  {
   "cell_type": "markdown",
   "id": "edbb678f",
   "metadata": {},
   "source": [
    "The next step is to run a phreeqc input file to initialize PhreeqcRM. This can be done by running a file or a string. I prefer strings since it is easier to manipulate them and construct the required input files for, e.g. adjusting reaction equilibrium constants. The following input file is chosen from phreeqc example 8:"
   ]
  },
  {
   "cell_type": "code",
   "execution_count": null,
   "id": "9f7a7d93",
   "metadata": {},
   "outputs": [],
   "source": [
    "input_string = \"\"\"\n",
    "SURFACE_SPECIES\n",
    "     Hfo_sOH  + H+ = Hfo_sOH2+\n",
    "     log_k  7.18\n",
    "     Hfo_sOH = Hfo_sO- + H+\n",
    "     log_k  -8.82\n",
    "     Hfo_sOH + Zn+2 = Hfo_sOZn+ + H+\n",
    "     log_k  0.66\n",
    "     Hfo_wOH  + H+ = Hfo_wOH2+\n",
    "     log_k  7.18\n",
    "     Hfo_wOH = Hfo_wO- + H+\n",
    "     log_k  -8.82\n",
    "     Hfo_wOH + Zn+2 = Hfo_wOZn+ + H+\n",
    "     log_k  -2.32\n",
    "SURFACE 1\n",
    "     Hfo_sOH        5e-6    600.    0.09\n",
    "     Hfo_wOH        2e-4\n",
    "#     -Donnan\n",
    "END\n",
    "SOLUTION 1\n",
    "     -units  mmol/kgw\n",
    "     pH      8.0\n",
    "     Zn      0.0001 \n",
    "     Na      100.    charge \n",
    "     N(5)    100.\n",
    "END\n",
    "\"\"\""
   ]
  },
  {
   "cell_type": "markdown",
   "id": "4939288c",
   "metadata": {},
   "source": [
    "Now we run the above input string. But before that, we tell PhreeqcRM that it must expect surface species in the input file. Also, we set some of the PhreeqcRM default values by calling the following functions:"
   ]
  },
  {
   "cell_type": "code",
   "execution_count": null,
   "id": "76b83dc9",
   "metadata": {},
   "outputs": [],
   "source": [
    "JP.setDefaultPhreeqcProperties(id)\n",
    "JP.setDefaultPhreeqcUnits(id)"
   ]
  }
 ],
 "metadata": {
  "kernelspec": {
   "display_name": "Julia 1.6.0",
   "language": "julia",
   "name": "julia-1.6"
  },
  "language_info": {
   "file_extension": ".jl",
   "mimetype": "application/julia",
   "name": "julia",
   "version": "1.6.0"
  },
  "toc": {
   "base_numbering": 1,
   "nav_menu": {},
   "number_sections": true,
   "sideBar": true,
   "skip_h1_title": false,
   "title_cell": "Table of Contents",
   "title_sidebar": "Contents",
   "toc_cell": false,
   "toc_position": {},
   "toc_section_display": true,
   "toc_window_display": false
  }
 },
 "nbformat": 4,
 "nbformat_minor": 5
}
