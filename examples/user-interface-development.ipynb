{
 "cells": [
  {
   "cell_type": "markdown",
   "id": "3d9fb787",
   "metadata": {},
   "source": [
    "## Interface development\n",
    "Before developing the graphical user interface (GUI), the computational capability of the software need to be extended such that the software can be easily utilized by the lab users. In the following, I will briefly describe what I used to do in the lab and later implement a preliminary structure and functions for the simulation of those steps."
   ]
  },
  {
   "cell_type": "markdown",
   "id": "20cf3e42",
   "metadata": {},
   "source": [
    "## Brine solutions\n",
    "In the Petroleum Engineering laboratory, brine solutions are either received from the operator, i.e. seawater, formation water, aquifer samples and then analyzed in the lab or are synthesized in the lab based on a provided protocol or composition. In the former case, the compositions are reported the form of concentration of the primary species and some extra data such as pH and electrical conductivity. It usually looks like this:\n",
    "\n",
    "|Species|Concentration (ppm)|\n",
    "|---|---|\n",
    "|Ca$^{2+}$          |    412.3|\n",
    "|Mg$^{2+}$          |    1291.8|\n",
    "|Na$^{+}$          |    10768.0|\n",
    "|K$^{+}$           |    399.1|\n",
    "|Si$^{2+}$          |    4.28|\n",
    "|Cl$^{-}$          |    19353.0|\n",
    "|HCO$_3^{2-}$  |    141.682 | as \n",
    "|SO$_4^{2-}$        |    2712.0  |"
   ]
  },
  {
   "cell_type": "markdown",
   "id": "387ae88a",
   "metadata": {},
   "source": [
    "In the lab, the synthetic sea or formation water is produced by mixing the right amount of different salts in demineralised water. Usually, most abundant and most soluble salts are used for making the brine solution, e.g. NaCl, KCl, CaCl$_2$, MgCl$_2$, Na$_2$SO$_4$, etc. The synthetic seawater composition then can be reported as the amount of salt added to a kilogram of water, as shown on the wikipedia page of [the artificial seawater](https://en.wikipedia.org/wiki/Artificial_seawater):\n",
    "\n",
    "|Salt| \tMolecular weight | g/kg solution|\n",
    "|---|---|---|\n",
    "|Sodium chloride (NaCl)| \t58.44| \t23.926|\n",
    "Sodium sulfate (Na$_2$SO$_4$)| \t142.04| \t4.008|\n",
    "Potassium chloride (KCl)| \t74.56| \t0.677|\n",
    "Sodium bicarbonate (NaHCO$_3$)| \t84.00| \t0.196|\n",
    "Potassium bromide (KBr)| 119.01| \t0.098|\n",
    "Boric acid (H$_3$BO$_3$)| \t61.83| \t0.026|\n",
    "Sodium fluoride (NaF)| \t41.99| \t0.003|\n",
    "\n",
    "It is suggested that some of the species to be added in the form of aqueous solutions:\n",
    "\n",
    "|Salt| \tMolecular weight| \tmol/kg solution|\n",
    "|---|---|---|\n",
    "|Magnesium chloride (MgCl$_2$.6H$_2$O)| \t203.33| \t0.05327|\n",
    "|Calcium chloride (CaCl$_2$.2H$_2$O)| \t147.03| \t0.01033|\n",
    "|Strontium chloride (SrCl$_2$.6H$_2$O)| \t266.64| \t0.00009| "
   ]
  },
  {
   "cell_type": "markdown",
   "id": "56881e37",
   "metadata": {},
   "source": [
    "In phreeqc, the aqueous solution is defines by\n",
    "\n",
    "```\n",
    "SOLUTION 1 seawater    \n",
    "        units   ppm\n",
    "        pH      8.22  charge\n",
    "        pe      8.451\n",
    "        density 1.023\n",
    "        temp    25.0\n",
    "        Ca              412.3\n",
    "        Mg              1291.8\n",
    "        Na              10768.0\n",
    "        K               399.1\n",
    "        Si              4.28\n",
    "        Cl              19353.0\n",
    "        Alkalinity      141.682 as HCO3\n",
    "        S(6)            2712.0\n",
    "    END\n",
    "```\n",
    "This definition is useful in modeling but is not the most convenient one for the experimentalists, although it is possible for them to convert their protocol to the above definition. Moreover, sometimes we might change the composition of the seawater by mixing it with other solutions. Again, it is possible to do the calculations for the mixing process in, e.g. Excel, but it is more convenient to have a general function in our software. This functionality is already implemented in Phreeqc and we only need to expose it to the user. However, the creation of solutions by dissolving salts in water, although doable in Phreeqc, is not convenient and straightforward. Therefore, we have implemented the following functions in our prototype:"
   ]
  },
  {
   "cell_type": "markdown",
   "id": "0b7f980e",
   "metadata": {},
   "source": [
    "### Phreeqc brines\n",
    "This brine is defined similar to the Phreeqc definition, as described in the Phreeqc version 3.0 documentation. In our software, these solutions can be saved in their original text format or in their translated format as a set of primary species after running the string in PhreeqcRM."
   ]
  },
  {
   "cell_type": "code",
   "execution_count": null,
   "id": "646771e8",
   "metadata": {},
   "outputs": [],
   "source": []
  }
 ],
 "metadata": {
  "kernelspec": {
   "display_name": "Julia 1.6.0",
   "language": "julia",
   "name": "julia-1.6"
  },
  "language_info": {
   "file_extension": ".jl",
   "mimetype": "application/julia",
   "name": "julia",
   "version": "1.6.0"
  },
  "toc": {
   "base_numbering": 1,
   "nav_menu": {},
   "number_sections": true,
   "sideBar": true,
   "skip_h1_title": false,
   "title_cell": "Table of Contents",
   "title_sidebar": "Contents",
   "toc_cell": false,
   "toc_position": {},
   "toc_section_display": true,
   "toc_window_display": false
  }
 },
 "nbformat": 4,
 "nbformat_minor": 5
}
