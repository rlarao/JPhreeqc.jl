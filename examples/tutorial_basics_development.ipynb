{
 "cells": [
  {
   "cell_type": "markdown",
   "id": "d3ef5f5e",
   "metadata": {},
   "source": [
    "## Tutorial\n",
    "This file is a demonstration of the basic use of PhreeqcRM in Julia using the package `JPhreeqc.jl`. I use it for the development of extra functions that are not available in PhreeqcRM but are extremely helpful (even necessary) in working with the reactive transport model."
   ]
  },
  {
   "cell_type": "code",
   "execution_count": 1,
   "id": "0cab3506",
   "metadata": {},
   "outputs": [
    {
     "data": {
      "text/plain": [
       "Main.JPhreeqc"
      ]
     },
     "execution_count": 1,
     "metadata": {},
     "output_type": "execute_result"
    }
   ],
   "source": [
    "include(\"../src/JPhreeqc.jl\")\n",
    "JP = JPhreeqc"
   ]
  },
  {
   "cell_type": "markdown",
   "id": "92e7d2ba",
   "metadata": {},
   "source": [
    "## First step: create a PhreeqcRM instance\n",
    "The following code shows how to create a PhreeqcRM instance that can solve chemistry in a certain number of cells. You can also specify the number of threads so the calculations run in parallel. The function RM_Create is called and the instance will get a unique id:"
   ]
  },
  {
   "cell_type": "code",
   "execution_count": 3,
   "id": "8a5c3ed5",
   "metadata": {},
   "outputs": [
    {
     "name": "stdout",
     "output_type": "stream",
     "text": [
      "the phreeqcrm id is 0"
     ]
    }
   ],
   "source": [
    "n_cells = 1\n",
    "n_thread = 1\n",
    "id = JP.RM_Create(n_cells, n_thread)\n",
    "print(\"the phreeqcrm id is $id\")"
   ]
  },
  {
   "cell_type": "markdown",
   "id": "edbb678f",
   "metadata": {},
   "source": [
    "The next step is to run a phreeqc input file to initialize PhreeqcRM. This can be done by running a file or a string. I prefer strings since it is easier to manipulate them and construct the required input files for, e.g. adjusting reaction equilibrium constants. The following input file is chosen from phreeqc example 8:"
   ]
  },
  {
   "cell_type": "code",
   "execution_count": 4,
   "id": "9f7a7d93",
   "metadata": {},
   "outputs": [
    {
     "data": {
      "text/plain": [
       "\"SURFACE_SPECIES\\n     Hfo_sOH  + H+ = Hfo_sOH2+\\n     log_k  7.18\\n     Hfo_sOH = Hfo_sO- + H+\\n     log_k  -8.82\\n     Hfo_sOH + Zn+2 = Hfo_sOZn+ + H+\\n     log_k  0.66\\n     Hfo_wOH  + H+ = Hfo_wOH2+\\n     log_k  7.18\\n     Hfo_wOH = Hfo_wO- + H+\\n     log_k  -8.82\\n     Hfo_wOH + Zn+2 = Hfo_wOZn+ + H+\\n     log_k  -2.32\\nSURFACE 1\\n     Hfo_sOH        5e-6    600.    0.09\\n     Hfo_wOH        2e-4\\n#     -Donnan\\nEND\\nSOLUTION 1\\n     -units  mmol/kgw\\n     pH      8.0\\n     Zn      0.0001 \\n     Na      100.    charge \\n     N(5)    100.\\nEND\\n\""
      ]
     },
     "execution_count": 4,
     "metadata": {},
     "output_type": "execute_result"
    }
   ],
   "source": [
    "input_string = \"\"\"\n",
    "SURFACE_SPECIES\n",
    "     Hfo_sOH  + H+ = Hfo_sOH2+\n",
    "     log_k  7.18\n",
    "     Hfo_sOH = Hfo_sO- + H+\n",
    "     log_k  -8.82\n",
    "     Hfo_sOH + Zn+2 = Hfo_sOZn+ + H+\n",
    "     log_k  0.66\n",
    "     Hfo_wOH  + H+ = Hfo_wOH2+\n",
    "     log_k  7.18\n",
    "     Hfo_wOH = Hfo_wO- + H+\n",
    "     log_k  -8.82\n",
    "     Hfo_wOH + Zn+2 = Hfo_wOZn+ + H+\n",
    "     log_k  -2.32\n",
    "SURFACE 1\n",
    "     Hfo_sOH        5e-6    600.    0.09\n",
    "     Hfo_wOH        2e-4\n",
    "#     -Donnan\n",
    "END\n",
    "SOLUTION 1\n",
    "     -units  mmol/kgw\n",
    "     pH      8.0\n",
    "     Zn      0.0001 \n",
    "     Na      100.    charge \n",
    "     N(5)    100.\n",
    "END\n",
    "\"\"\""
   ]
  },
  {
   "cell_type": "markdown",
   "id": "4939288c",
   "metadata": {},
   "source": [
    "Now we run the above input string. But before that, we tell PhreeqcRM that it must expect surface species in the input file. Also, we set some of the PhreeqcRM default values by calling the following functions:"
   ]
  },
  {
   "cell_type": "code",
   "execution_count": 5,
   "id": "76b83dc9",
   "metadata": {},
   "outputs": [
    {
     "data": {
      "text/plain": [
       "0"
      ]
     },
     "execution_count": 5,
     "metadata": {},
     "output_type": "execute_result"
    }
   ],
   "source": [
    "JP.setDefaultPhreeqcProperties(id)\n",
    "JP.setDefaultPhreeqcUnits(id)\n",
    "JP.setInitialVectors(id, n_cells, aq_solution=1, eq_phase=0, ion_exchange=0,\n",
    "                             surface_site=1, gas_phase=0, solid_solution=0, kin_reaction=0)\n",
    "JP.RM_LoadDatabase(id, \"phreeqc.dat\")\n"
   ]
  },
  {
   "cell_type": "code",
   "execution_count": 6,
   "id": "41e13ae7",
   "metadata": {},
   "outputs": [
    {
     "data": {
      "text/latex": [
       "Run a PHREEQC input string. The first three arguments determine which IPhreeqc instances will run the string–the workers, the InitialPhreeqc instance, and (or) the Utility instance. Input strings that modify the thermodynamic database should be run by all three sets of instances. Strings with SELECTED\\_OUTPUT definitions that will be used during the time-stepping loop need to be run by the workers. Strings that contain initial conditions or boundary conditions should be run by the InitialPhreeqc instance.\n",
       "\n",
       "Parameters id\tThe instance id returned from RM\\emph{Create. workers\t1, the workers will run the string; 0, the workers will not run the string. initial}phreeqc\t1, the InitialPhreeqc instance will run the string; 0, the InitialPhreeqc will not run the string. utility\t1, the Utility instance will run the string; 0, the Utility instance will not run the string. input\\emph{string\tString containing PHREEQC input. Return values IRM}RESULT\t0 is success, negative is failure (See RM\\emph{DecodeError). See also RM}RunFile. C Example:  strcpy(str, \"DELETE; -all\"); status = RM\\emph{RunString(id, 1, 0, 1, str);    // workers, initial}phreeqc, utility\n",
       "\n"
      ],
      "text/markdown": [
       "Run a PHREEQC input string. The first three arguments determine which IPhreeqc instances will run the string–the workers, the InitialPhreeqc instance, and (or) the Utility instance. Input strings that modify the thermodynamic database should be run by all three sets of instances. Strings with SELECTED_OUTPUT definitions that will be used during the time-stepping loop need to be run by the workers. Strings that contain initial conditions or boundary conditions should be run by the InitialPhreeqc instance.\n",
       "\n",
       "Parameters id\tThe instance id returned from RM*Create. workers\t1, the workers will run the string; 0, the workers will not run the string. initial*phreeqc\t1, the InitialPhreeqc instance will run the string; 0, the InitialPhreeqc will not run the string. utility\t1, the Utility instance will run the string; 0, the Utility instance will not run the string. input*string\tString containing PHREEQC input. Return values IRM*RESULT\t0 is success, negative is failure (See RM*DecodeError). See also RM*RunFile. C Example:  strcpy(str, \"DELETE; -all\"); status = RM*RunString(id, 1, 0, 1, str);    // workers, initial*phreeqc, utility\n"
      ],
      "text/plain": [
       "  Run a PHREEQC input string. The first three arguments determine which\n",
       "  IPhreeqc instances will run the string–the workers, the InitialPhreeqc\n",
       "  instance, and (or) the Utility instance. Input strings that modify the\n",
       "  thermodynamic database should be run by all three sets of instances. Strings\n",
       "  with SELECTED_OUTPUT definitions that will be used during the time-stepping\n",
       "  loop need to be run by the workers. Strings that contain initial conditions\n",
       "  or boundary conditions should be run by the InitialPhreeqc instance.\n",
       "\n",
       "  Parameters id The instance id returned from RM\u001b[4mCreate. workers 1, the workers\n",
       "  will run the string; 0, the workers will not run the string. initial\u001b[24mphreeqc\n",
       "  1, the InitialPhreeqc instance will run the string; 0, the InitialPhreeqc\n",
       "  will not run the string. utility 1, the Utility instance will run the\n",
       "  string; 0, the Utility instance will not run the string. input\u001b[4mstring String\n",
       "  containing PHREEQC input. Return values IRM\u001b[24mRESULT 0 is success, negative is\n",
       "  failure (See RM\u001b[4mDecodeError). See also RM\u001b[24mRunFile. C Example: strcpy(str,\n",
       "  \"DELETE; -all\"); status = RM\u001b[4mRunString(id, 1, 0, 1, str); // workers,\n",
       "  initial\u001b[24mphreeqc, utility"
      ]
     },
     "execution_count": 6,
     "metadata": {},
     "output_type": "execute_result"
    }
   ],
   "source": [
    "?JP.RM_RunString"
   ]
  },
  {
   "cell_type": "code",
   "execution_count": 7,
   "id": "4876f9f2",
   "metadata": {},
   "outputs": [
    {
     "data": {
      "text/plain": [
       "0"
      ]
     },
     "execution_count": 7,
     "metadata": {},
     "output_type": "execute_result"
    }
   ],
   "source": [
    "JP.RM_RunString(id, 1,1,1, input_string)"
   ]
  },
  {
   "cell_type": "markdown",
   "id": "b676f6b6",
   "metadata": {},
   "source": [
    "## New functions\n",
    "Since my last update of JPhreeqc.jl package, some new functions have come to the PhreeqcRM library that can give a list of non-aqueous species in the current run. Here, I introduce them and use them to put together some new functions similar to:"
   ]
  },
  {
   "cell_type": "code",
   "execution_count": 8,
   "id": "7a49d8c5",
   "metadata": {},
   "outputs": [
    {
     "data": {
      "text/plain": [
       "6-element Vector{String}:\n",
       " \"H\"\n",
       " \"O\"\n",
       " \"Charge\"\n",
       " \"N\"\n",
       " \"Na\"\n",
       " \"Zn\""
      ]
     },
     "execution_count": 8,
     "metadata": {},
     "output_type": "execute_result"
    }
   ],
   "source": [
    "JP.getComponentList(id)"
   ]
  },
  {
   "cell_type": "code",
   "execution_count": 9,
   "id": "7077f9ee",
   "metadata": {},
   "outputs": [
    {
     "data": {
      "text/plain": [
       "8"
      ]
     },
     "execution_count": 9,
     "metadata": {},
     "output_type": "execute_result"
    }
   ],
   "source": [
    "JP.RM_GetSurfaceSpeciesCount(id) # number of surface species"
   ]
  },
  {
   "cell_type": "code",
   "execution_count": 10,
   "id": "f0841655",
   "metadata": {},
   "outputs": [
    {
     "data": {
      "text/latex": [
       "Returns the number of surface species (such as \"Hfo\\emph{wOH\") in the initial-phreeqc module. RM}FindComponents must be called before RM\\_GetSurfaceSpeciesCount. This method may be useful when generating selected output definitions related to surfaces.\n",
       "\n",
       "Parameters     id\tThe instance id returned from RM\\_Create.\n",
       "\n",
       "Return values     The\tnumber of surface species in the initial-phreeqc module.\n",
       "\n",
       "See also     RM\\emph{FindComponents, RM}GetSurfaceSpeciesName, RM\\emph{GetSurfaceType, RM}GetSurfaceName. \n",
       "\n",
       "C Example:\n",
       "\n",
       "\\begin{verbatim}\n",
       "for (i = 0; i < RM_GetSurfaceSpeciesCount(id); i++)\n",
       "{\n",
       "status = RM_GetSurfaceSpeciesName(id, i, line1, 100);\n",
       "status = RM_GetSurfaceType(id, i, line2, 100);\n",
       "status = RM_GetSurfaceName(id, i, line3, 100);\n",
       "sprintf(line, \"%4s%20s%3s%20s%20s\n",
       "\\end{verbatim}\n",
       "\", \"    \", line1, \" \\# \", line2, line3);     strcat(input, line);     \\}\n",
       "\n"
      ],
      "text/markdown": [
       "Returns the number of surface species (such as \"Hfo*wOH\") in the initial-phreeqc module. RM*FindComponents must be called before RM_GetSurfaceSpeciesCount. This method may be useful when generating selected output definitions related to surfaces.\n",
       "\n",
       "Parameters     id\tThe instance id returned from RM_Create.\n",
       "\n",
       "Return values     The\tnumber of surface species in the initial-phreeqc module.\n",
       "\n",
       "See also     RM*FindComponents, RM*GetSurfaceSpeciesName, RM*GetSurfaceType, RM*GetSurfaceName. \n",
       "\n",
       "C Example:\n",
       "\n",
       "```\n",
       "for (i = 0; i < RM_GetSurfaceSpeciesCount(id); i++)\n",
       "{\n",
       "status = RM_GetSurfaceSpeciesName(id, i, line1, 100);\n",
       "status = RM_GetSurfaceType(id, i, line2, 100);\n",
       "status = RM_GetSurfaceName(id, i, line3, 100);\n",
       "sprintf(line, \"%4s%20s%3s%20s%20s\n",
       "```\n",
       "\n",
       "\", \"    \", line1, \" # \", line2, line3);     strcat(input, line);     }\n"
      ],
      "text/plain": [
       "  Returns the number of surface species (such as \"Hfo\u001b[4mwOH\") in the\n",
       "  initial-phreeqc module. RM\u001b[24mFindComponents must be called before\n",
       "  RM_GetSurfaceSpeciesCount. This method may be useful when generating\n",
       "  selected output definitions related to surfaces.\n",
       "\n",
       "  Parameters id The instance id returned from RM_Create.\n",
       "\n",
       "  Return values The number of surface species in the initial-phreeqc module.\n",
       "\n",
       "  See also RM\u001b[4mFindComponents, RM\u001b[24mGetSurfaceSpeciesName, RM\u001b[4mGetSurfaceType,\n",
       "  RM\u001b[24mGetSurfaceName.\n",
       "\n",
       "  C Example:\n",
       "\n",
       "\u001b[36m  for (i = 0; i < RM_GetSurfaceSpeciesCount(id); i++)\u001b[39m\n",
       "\u001b[36m  {\u001b[39m\n",
       "\u001b[36m  status = RM_GetSurfaceSpeciesName(id, i, line1, 100);\u001b[39m\n",
       "\u001b[36m  status = RM_GetSurfaceType(id, i, line2, 100);\u001b[39m\n",
       "\u001b[36m  status = RM_GetSurfaceName(id, i, line3, 100);\u001b[39m\n",
       "\u001b[36m  sprintf(line, \"%4s%20s%3s%20s%20s\u001b[39m\n",
       "\n",
       "  \", \" \", line1, \" # \", line2, line3); strcat(input, line); }"
      ]
     },
     "execution_count": 10,
     "metadata": {},
     "output_type": "execute_result"
    }
   ],
   "source": [
    "?JP.RM_GetSurfaceSpeciesCount"
   ]
  },
  {
   "cell_type": "code",
   "execution_count": 11,
   "id": "be672c7f",
   "metadata": {},
   "outputs": [
    {
     "data": {
      "text/plain": [
       "8×3 Matrix{String}:\n",
       " \"Hfo_sO-\"    \"Hfo_s\"  \"Hfo\"\n",
       " \"Hfo_sOH\"    \"Hfo_s\"  \"Hfo\"\n",
       " \"Hfo_sOH2+\"  \"Hfo_s\"  \"Hfo\"\n",
       " \"Hfo_sOZn+\"  \"Hfo_s\"  \"Hfo\"\n",
       " \"Hfo_wO-\"    \"Hfo_w\"  \"Hfo\"\n",
       " \"Hfo_wOH\"    \"Hfo_w\"  \"Hfo\"\n",
       " \"Hfo_wOH2+\"  \"Hfo_w\"  \"Hfo\"\n",
       " \"Hfo_wOZn+\"  \"Hfo_w\"  \"Hfo\""
      ]
     },
     "execution_count": 11,
     "metadata": {},
     "output_type": "execute_result"
    }
   ],
   "source": [
    "ncomps = JP.RM_FindComponents(id)\n",
    "n_species = JP.RM_GetSurfaceSpeciesCount(id)\n",
    "surface_species = Array{String}(undef, n_species, 3)\n",
    "for i=1:n_species\n",
    "    for j=1:3\n",
    "        surface_species[i, j] = string(zeros(Int, 30))\n",
    "    end\n",
    "end\n",
    "for i = 1:n_species\n",
    "    status = JP.RM_GetSurfaceSpeciesName(id, i-1, surface_species[i, 1], length(surface_species[i, 1]))\n",
    "    status = JP.RM_GetSurfaceType(id, i-1, surface_species[i, 2], length(surface_species[i, 2]))\n",
    "    status = JP.RM_GetSurfaceName(id, i-1, surface_species[i, 3], length(surface_species[i, 3]))\n",
    "end\n",
    "surface_species .= strip.(surface_species, '\\0')\n",
    "surface_species\n",
    "# print(surface_name)\n",
    "# print(surface_type)"
   ]
  },
  {
   "cell_type": "markdown",
   "id": "6db498e4",
   "metadata": {},
   "source": [
    "### Other functions\n",
    "The other functions are:"
   ]
  },
  {
   "cell_type": "code",
   "execution_count": 12,
   "id": "f39dd788",
   "metadata": {},
   "outputs": [
    {
     "data": {
      "text/plain": [
       "getEquilibriumPhasesList (generic function with 1 method)"
      ]
     },
     "execution_count": 12,
     "metadata": {},
     "output_type": "execute_result"
    }
   ],
   "source": [
    "#JP.RM_GetEquilibriumPhasesCount\n",
    "#JP.RM_GetEquilibriumPhasesName\n",
    "function getEquilibriumPhasesList(id::Int)\n",
    "  ncomps = RM_FindComponents(id)\n",
    "  n_species = RM_GetEquilibriumPhasesCount(id)\n",
    "  species = Array{String}(undef, n_species)\n",
    "\tfor i = 1:n_species\n",
    "\t\tspecies[i] = string(zeros(Int, 30))\n",
    "\t\tstatus = RM_GetEquilibriumPhasesName(id, i-1, species[i], length(species[i]))\n",
    "    species[i]=strip(species[i], '\\0')\n",
    "\tend\n",
    "  return species\n",
    "end"
   ]
  },
  {
   "cell_type": "code",
   "execution_count": 13,
   "id": "bb0b79d8",
   "metadata": {},
   "outputs": [
    {
     "data": {
      "text/plain": [
       "RM_GetExchangeName (generic function with 1 method)"
      ]
     },
     "execution_count": 13,
     "metadata": {},
     "output_type": "execute_result"
    }
   ],
   "source": [
    "JP.RM_GetExchangeSpeciesCount\n",
    "JP.RM_GetExchangeSpeciesName\n",
    "JP.RM_GetExchangeName\n",
    "\n"
   ]
  },
  {
   "cell_type": "code",
   "execution_count": 14,
   "id": "3cdbf919",
   "metadata": {},
   "outputs": [
    {
     "data": {
      "text/plain": [
       "RM_GetKineticReactionsName (generic function with 1 method)"
      ]
     },
     "execution_count": 14,
     "metadata": {},
     "output_type": "execute_result"
    }
   ],
   "source": [
    "JP.RM_GetKineticReactionsCount\n",
    "JP.RM_GetKineticReactionsName"
   ]
  },
  {
   "cell_type": "code",
   "execution_count": 15,
   "id": "ff231592",
   "metadata": {},
   "outputs": [
    {
     "data": {
      "text/plain": [
       "RM_GetGasComponentsName (generic function with 1 method)"
      ]
     },
     "execution_count": 15,
     "metadata": {},
     "output_type": "execute_result"
    }
   ],
   "source": [
    "JP.RM_GetGasComponentsCount\n",
    "JP.RM_GetGasComponentsName"
   ]
  },
  {
   "cell_type": "code",
   "execution_count": 16,
   "id": "f9576d3e",
   "metadata": {},
   "outputs": [
    {
     "data": {
      "text/plain": [
       "RM_GetSolidSolutionName (generic function with 1 method)"
      ]
     },
     "execution_count": 16,
     "metadata": {},
     "output_type": "execute_result"
    }
   ],
   "source": [
    "JP.RM_GetSolidSolutionComponentsCount\n",
    "JP.RM_GetSolidSolutionComponentsName\n",
    "JP.RM_GetSolidSolutionName"
   ]
  },
  {
   "cell_type": "code",
   "execution_count": 18,
   "id": "419e58ac",
   "metadata": {},
   "outputs": [
    {
     "data": {
      "text/plain": [
       "RM_StateSave (generic function with 1 method)"
      ]
     },
     "execution_count": 18,
     "metadata": {},
     "output_type": "execute_result"
    }
   ],
   "source": [
    "JP.RM_StateSave"
   ]
  },
  {
   "cell_type": "markdown",
   "id": "f89df265",
   "metadata": {},
   "source": [
    "All the functions are implemented now but needs test."
   ]
  }
 ],
 "metadata": {
  "@webio": {
   "lastCommId": null,
   "lastKernelId": null
  },
  "kernelspec": {
   "display_name": "Julia 1.6.2",
   "language": "julia",
   "name": "julia-1.6"
  },
  "language_info": {
   "file_extension": ".jl",
   "mimetype": "application/julia",
   "name": "julia",
   "version": "1.6.2"
  },
  "toc": {
   "base_numbering": 1,
   "nav_menu": {},
   "number_sections": true,
   "sideBar": true,
   "skip_h1_title": false,
   "title_cell": "Table of Contents",
   "title_sidebar": "Contents",
   "toc_cell": false,
   "toc_position": {},
   "toc_section_display": true,
   "toc_window_display": false
  }
 },
 "nbformat": 4,
 "nbformat_minor": 5
}
