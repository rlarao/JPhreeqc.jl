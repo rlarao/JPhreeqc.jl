{
 "cells": [
  {
   "cell_type": "markdown",
   "id": "d3ef5f5e",
   "metadata": {},
   "source": [
    "## Tutorial\n",
    "This file is a demonstration of the basic use of PhreeqcRM in Julia using the package `JPhreeqc.jl`. I use it for the development of extra functions that are not available in PhreeqcRM but are extremely helpful (even necessary) in working with the reactive transport model."
   ]
  },
  {
   "cell_type": "code",
   "execution_count": 1,
   "id": "0cab3506",
   "metadata": {},
   "outputs": [
    {
     "data": {
      "text/plain": [
       "Main.JPhreeqc"
      ]
     },
     "execution_count": 1,
     "metadata": {},
     "output_type": "execute_result"
    }
   ],
   "source": [
    "include(\"../src/JPhreeqc.jl\")\n",
    "JP = JPhreeqc"
   ]
  },
  {
   "cell_type": "markdown",
   "id": "92e7d2ba",
   "metadata": {},
   "source": [
    "## First step: create a PhreeqcRM instance\n",
    "The following code shows how to create a PhreeqcRM instance that can solve chemistry in a certain number of cells. You can also specify the number of threads so the calculations run in parallel. The function RM_Create is called and the instance will get a unique id:"
   ]
  },
  {
   "cell_type": "code",
   "execution_count": 2,
   "id": "8a5c3ed5",
   "metadata": {},
   "outputs": [
    {
     "name": "stdout",
     "output_type": "stream",
     "text": [
      "the phreeqcrm id is 0"
     ]
    }
   ],
   "source": [
    "n_cells = 1\n",
    "n_thread = 1\n",
    "id = JP.RM_Create(n_cells, n_thread)\n",
    "print(\"the phreeqcrm id is $id\")"
   ]
  },
  {
   "cell_type": "markdown",
   "id": "edbb678f",
   "metadata": {},
   "source": [
    "The next step is to run a phreeqc input file to initialize PhreeqcRM. This can be done by running a file or a string. I prefer strings since it is easier to manipulate them and construct the required input files for, e.g. adjusting reaction equilibrium constants. The following input file is chosen from phreeqc example 8:"
   ]
  },
  {
   "cell_type": "code",
   "execution_count": 3,
   "id": "9f7a7d93",
   "metadata": {},
   "outputs": [
    {
     "data": {
      "text/plain": [
       "\"SURFACE_SPECIES\\n     Hfo_sOH  + H+ = Hfo_sOH2+\\n     log_k  7.18\\n     Hfo_sOH = Hfo_sO- + H+\\n     log_k  -8.82\\n     Hfo_sOH + Zn+2 = Hfo_sOZn+ + H+\\n     log_k  0.66\\n     Hfo_wOH  + H+ = Hfo_wOH2+\\n     log_k  7.18\\n     Hfo_wOH = Hfo_wO- + H+\\n     log_k  -8.82\\n     Hfo_wOH + Zn+2 = Hfo_wOZn+ + H+\\n     log_k  -2.32\\nSURFACE 1\\n     Hfo_sOH        5e-6    600.    0.09\\n     Hfo_wOH        2e-4\\n#     -Donnan\\nEND\\nSOLUTION 1\\n     -units  mmol/kgw\\n     pH      8.0\\n     Zn      0.0001 \\n     Na      100.    charge \\n     N(5)    100.\\nEND\\n\""
      ]
     },
     "execution_count": 3,
     "metadata": {},
     "output_type": "execute_result"
    }
   ],
   "source": [
    "input_string = \"\"\"\n",
    "SURFACE_SPECIES\n",
    "     Hfo_sOH  + H+ = Hfo_sOH2+\n",
    "     log_k  7.18\n",
    "     Hfo_sOH = Hfo_sO- + H+\n",
    "     log_k  -8.82\n",
    "     Hfo_sOH + Zn+2 = Hfo_sOZn+ + H+\n",
    "     log_k  0.66\n",
    "     Hfo_wOH  + H+ = Hfo_wOH2+\n",
    "     log_k  7.18\n",
    "     Hfo_wOH = Hfo_wO- + H+\n",
    "     log_k  -8.82\n",
    "     Hfo_wOH + Zn+2 = Hfo_wOZn+ + H+\n",
    "     log_k  -2.32\n",
    "SURFACE 1\n",
    "     Hfo_sOH        5e-6    600.    0.09\n",
    "     Hfo_wOH        2e-4\n",
    "#     -Donnan\n",
    "END\n",
    "SOLUTION 1\n",
    "     -units  mmol/kgw\n",
    "     pH      8.0\n",
    "     Zn      0.0001 \n",
    "     Na      100.    charge \n",
    "     N(5)    100.\n",
    "END\n",
    "\"\"\""
   ]
  },
  {
   "cell_type": "markdown",
   "id": "4939288c",
   "metadata": {},
   "source": [
    "Now we run the above input string. But before that, we tell PhreeqcRM that it must expect surface species in the input file. Also, we set some of the PhreeqcRM default values by calling the following functions:"
   ]
  },
  {
   "cell_type": "code",
   "execution_count": 4,
   "id": "76b83dc9",
   "metadata": {},
   "outputs": [
    {
     "data": {
      "text/plain": [
       "0"
      ]
     },
     "execution_count": 4,
     "metadata": {},
     "output_type": "execute_result"
    }
   ],
   "source": [
    "JP.setDefaultPhreeqcProperties(id)\n",
    "JP.setDefaultPhreeqcUnits(id)\n",
    "JP.setInitialVectors(id, n_cells, aq_solution=1, eq_phase=0, ion_exchange=0,\n",
    "                             surface_site=1, gas_phase=0, solid_solution=0, kin_reaction=0)\n",
    "JP.RM_LoadDatabase(id, \"phreeqc.dat\")\n"
   ]
  },
  {
   "cell_type": "code",
   "execution_count": 5,
   "id": "8094c1ea",
   "metadata": {},
   "outputs": [
    {
     "data": {
      "text/latex": [
       "Run a PHREEQC input string. The first three arguments determine which IPhreeqc instances will run the string–the workers, the InitialPhreeqc instance, and (or) the Utility instance. Input strings that modify the thermodynamic database should be run by all three sets of instances. Strings with SELECTED\\_OUTPUT definitions that will be used during the time-stepping loop need to be run by the workers. Strings that contain initial conditions or boundary conditions should be run by the InitialPhreeqc instance.\n",
       "\n",
       "Parameters id\tThe instance id returned from RM\\emph{Create. workers\t1, the workers will run the string; 0, the workers will not run the string. initial}phreeqc\t1, the InitialPhreeqc instance will run the string; 0, the InitialPhreeqc will not run the string. utility\t1, the Utility instance will run the string; 0, the Utility instance will not run the string. input\\emph{string\tString containing PHREEQC input. Return values IRM}RESULT\t0 is success, negative is failure (See RM\\emph{DecodeError). See also RM}RunFile. C Example:  strcpy(str, \"DELETE; -all\"); status = RM\\emph{RunString(id, 1, 0, 1, str);    // workers, initial}phreeqc, utility\n",
       "\n"
      ],
      "text/markdown": [
       "Run a PHREEQC input string. The first three arguments determine which IPhreeqc instances will run the string–the workers, the InitialPhreeqc instance, and (or) the Utility instance. Input strings that modify the thermodynamic database should be run by all three sets of instances. Strings with SELECTED_OUTPUT definitions that will be used during the time-stepping loop need to be run by the workers. Strings that contain initial conditions or boundary conditions should be run by the InitialPhreeqc instance.\n",
       "\n",
       "Parameters id\tThe instance id returned from RM*Create. workers\t1, the workers will run the string; 0, the workers will not run the string. initial*phreeqc\t1, the InitialPhreeqc instance will run the string; 0, the InitialPhreeqc will not run the string. utility\t1, the Utility instance will run the string; 0, the Utility instance will not run the string. input*string\tString containing PHREEQC input. Return values IRM*RESULT\t0 is success, negative is failure (See RM*DecodeError). See also RM*RunFile. C Example:  strcpy(str, \"DELETE; -all\"); status = RM*RunString(id, 1, 0, 1, str);    // workers, initial*phreeqc, utility\n"
      ],
      "text/plain": [
       "  Run a PHREEQC input string. The first three arguments determine which\n",
       "  IPhreeqc instances will run the string–the workers, the InitialPhreeqc\n",
       "  instance, and (or) the Utility instance. Input strings that modify the\n",
       "  thermodynamic database should be run by all three sets of instances. Strings\n",
       "  with SELECTED_OUTPUT definitions that will be used during the time-stepping\n",
       "  loop need to be run by the workers. Strings that contain initial conditions\n",
       "  or boundary conditions should be run by the InitialPhreeqc instance.\n",
       "\n",
       "  Parameters id The instance id returned from RM\u001b[4mCreate. workers 1, the workers\n",
       "  will run the string; 0, the workers will not run the string. initial\u001b[24mphreeqc\n",
       "  1, the InitialPhreeqc instance will run the string; 0, the InitialPhreeqc\n",
       "  will not run the string. utility 1, the Utility instance will run the\n",
       "  string; 0, the Utility instance will not run the string. input\u001b[4mstring String\n",
       "  containing PHREEQC input. Return values IRM\u001b[24mRESULT 0 is success, negative is\n",
       "  failure (See RM\u001b[4mDecodeError). See also RM\u001b[24mRunFile. C Example: strcpy(str,\n",
       "  \"DELETE; -all\"); status = RM\u001b[4mRunString(id, 1, 0, 1, str); // workers,\n",
       "  initial\u001b[24mphreeqc, utility"
      ]
     },
     "execution_count": 5,
     "metadata": {},
     "output_type": "execute_result"
    }
   ],
   "source": [
    "?JP.RM_RunString"
   ]
  },
  {
   "cell_type": "code",
   "execution_count": 6,
   "id": "9a83436a",
   "metadata": {},
   "outputs": [
    {
     "data": {
      "text/plain": [
       "0"
      ]
     },
     "execution_count": 6,
     "metadata": {},
     "output_type": "execute_result"
    }
   ],
   "source": [
    "JP.RM_RunString(id, 1,1,1, input_string)"
   ]
  }
 ],
 "metadata": {
  "@webio": {
   "lastCommId": null,
   "lastKernelId": null
  },
  "kernelspec": {
   "display_name": "Julia 1.6.0",
   "language": "julia",
   "name": "julia-1.6"
  },
  "language_info": {
   "file_extension": ".jl",
   "mimetype": "application/julia",
   "name": "julia",
   "version": "1.6.0"
  },
  "toc": {
   "base_numbering": 1,
   "nav_menu": {},
   "number_sections": true,
   "sideBar": true,
   "skip_h1_title": false,
   "title_cell": "Table of Contents",
   "title_sidebar": "Contents",
   "toc_cell": false,
   "toc_position": {},
   "toc_section_display": true,
   "toc_window_display": false
  }
 },
 "nbformat": 4,
 "nbformat_minor": 5
}
